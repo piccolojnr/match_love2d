{
 "cells": [
  {
   "cell_type": "code",
   "execution_count": 1,
   "metadata": {},
   "outputs": [],
   "source": [
    "\n",
    "import os\n",
    "from PIL import Image\n",
    "import glob\n",
    "import json \n"
   ]
  },
  {
   "cell_type": "code",
   "execution_count": 17,
   "metadata": {},
   "outputs": [],
   "source": [
    "colorSets = [\n",
    "    # -- Level 1-3: Most distinguishable colors\n",
    "    [\n",
    "        '#dfab71',\n",
    "        '#34946c',\n",
    "        '#78c63c',\n",
    "        '#647ee1',\n",
    "        '#ce5147',\n",
    "    ],\n",
    "    # -- Level 4-6: Add slightly similar colors\n",
    "    [\n",
    "        '#dfab71',\n",
    "        '#34946c',\n",
    "        '#78c63c',\n",
    "        '#647ee1',\n",
    "        '#ce5147',\n",
    "        '#4c4937',\n",
    "        '#306082',\n",
    "    ],\n",
    "    # -- Level 7-9: Add more similar colors\n",
    "    [\n",
    "        '#dfab71',\n",
    "        '#34946c',\n",
    "        '#78c63c',\n",
    "        '#647ee1',\n",
    "        '#ce5147',\n",
    "        '#4c4937',\n",
    "        '#306082',\n",
    "        '#d28bc6',\n",
    "        '#8f563b',\n",
    "    ],\n",
    "    # -- Level 10-15: Include the most similar colors\n",
    "    [\n",
    "        '#dfab71',\n",
    "        '#34946c',\n",
    "        '#78c63c',\n",
    "        '#647ee1',\n",
    "        '#ce5147',\n",
    "        '#4c4937',\n",
    "        '#306082',\n",
    "        '#d28bc6',\n",
    "        '#8f563b',\n",
    "        '#595652',\n",
    "        '#696a6a',\n",
    "        '#847e87',\n",
    "    ],\n",
    "    # -- Level 16-20: Include more similar colors\n",
    "    [\n",
    "        '#dfab71',\n",
    "        '#34946c',\n",
    "        '#78c63c',\n",
    "        '#647ee1',\n",
    "        '#ce5147',\n",
    "        '#4c4937',\n",
    "        '#306082',\n",
    "        '#d28bc6',\n",
    "        '#8f563b',\n",
    "        '#595652',\n",
    "        '#696a6a',\n",
    "        '#847e87',\n",
    "        '#d95763',\n",
    "        '#ac3232',\n",
    "        '#663931',\n",
    "        '#df7126',\n",
    "    ],\n",
    "    # -- Level 21-25: Include all colors\n",
    "    [\n",
    "        '#dfab71',\n",
    "        '#8c5f38',\n",
    "        '#4c4937',\n",
    "        '#34946c',\n",
    "        '#78c63c',\n",
    "        '#647ee1',\n",
    "        '#306082',\n",
    "        '#575480',\n",
    "        '#d28bc6',\n",
    "        '#ce5147',\n",
    "        '#d95763',\n",
    "        '#ac3232',\n",
    "        '#663931',\n",
    "        '#8f563b',\n",
    "        '#df7126',\n",
    "        '#847e87',\n",
    "        '#696a6a',\n",
    "        '#595652',\n",
    "    ],\n",
    "]\n",
    "# '#dfab71',\n",
    "#     '#8c5f38',\n",
    "#     '#4c4937',\n",
    "#     '#34946c',\n",
    "#     '#78c63c',\n",
    "#     '#647ee1',\n",
    "#     '#306082',\n",
    "#     '#575480',\n",
    "#     '#d28bc6',\n",
    "#     '#ce5147',\n",
    "#     '#d95763',\n",
    "#     '#ac3232',\n",
    "#     '#663931',\n",
    "#     '#8f563b',\n",
    "#     '#df7126',\n",
    "#     '#847e87',\n",
    "#     '#696a6a',\n",
    "#     '#595652',"
   ]
  },
  {
   "cell_type": "code",
   "execution_count": 18,
   "metadata": {},
   "outputs": [
    {
     "data": {
      "text/markdown": [
       "<span style=\"font-family: monospace\">#dfab71 <span style=\"color: #dfab71\">████████</span></span><br><span style=\"font-family: monospace\">#34946c <span style=\"color: #34946c\">████████</span></span><br><span style=\"font-family: monospace\">#78c63c <span style=\"color: #78c63c\">████████</span></span><br><span style=\"font-family: monospace\">#647ee1 <span style=\"color: #647ee1\">████████</span></span><br><span style=\"font-family: monospace\">#ce5147 <span style=\"color: #ce5147\">████████</span></span>"
      ],
      "text/plain": [
       "<IPython.core.display.Markdown object>"
      ]
     },
     "metadata": {},
     "output_type": "display_data"
    },
    {
     "data": {
      "text/markdown": [
       "<span style=\"font-family: monospace\">#dfab71 <span style=\"color: #dfab71\">████████</span></span><br><span style=\"font-family: monospace\">#34946c <span style=\"color: #34946c\">████████</span></span><br><span style=\"font-family: monospace\">#78c63c <span style=\"color: #78c63c\">████████</span></span><br><span style=\"font-family: monospace\">#647ee1 <span style=\"color: #647ee1\">████████</span></span><br><span style=\"font-family: monospace\">#ce5147 <span style=\"color: #ce5147\">████████</span></span><br><span style=\"font-family: monospace\">#4c4937 <span style=\"color: #4c4937\">████████</span></span><br><span style=\"font-family: monospace\">#306082 <span style=\"color: #306082\">████████</span></span>"
      ],
      "text/plain": [
       "<IPython.core.display.Markdown object>"
      ]
     },
     "metadata": {},
     "output_type": "display_data"
    },
    {
     "data": {
      "text/markdown": [
       "<span style=\"font-family: monospace\">#dfab71 <span style=\"color: #dfab71\">████████</span></span><br><span style=\"font-family: monospace\">#34946c <span style=\"color: #34946c\">████████</span></span><br><span style=\"font-family: monospace\">#78c63c <span style=\"color: #78c63c\">████████</span></span><br><span style=\"font-family: monospace\">#647ee1 <span style=\"color: #647ee1\">████████</span></span><br><span style=\"font-family: monospace\">#ce5147 <span style=\"color: #ce5147\">████████</span></span><br><span style=\"font-family: monospace\">#4c4937 <span style=\"color: #4c4937\">████████</span></span><br><span style=\"font-family: monospace\">#306082 <span style=\"color: #306082\">████████</span></span><br><span style=\"font-family: monospace\">#d28bc6 <span style=\"color: #d28bc6\">████████</span></span><br><span style=\"font-family: monospace\">#8f563b <span style=\"color: #8f563b\">████████</span></span>"
      ],
      "text/plain": [
       "<IPython.core.display.Markdown object>"
      ]
     },
     "metadata": {},
     "output_type": "display_data"
    },
    {
     "data": {
      "text/markdown": [
       "<span style=\"font-family: monospace\">#dfab71 <span style=\"color: #dfab71\">████████</span></span><br><span style=\"font-family: monospace\">#34946c <span style=\"color: #34946c\">████████</span></span><br><span style=\"font-family: monospace\">#78c63c <span style=\"color: #78c63c\">████████</span></span><br><span style=\"font-family: monospace\">#647ee1 <span style=\"color: #647ee1\">████████</span></span><br><span style=\"font-family: monospace\">#ce5147 <span style=\"color: #ce5147\">████████</span></span><br><span style=\"font-family: monospace\">#4c4937 <span style=\"color: #4c4937\">████████</span></span><br><span style=\"font-family: monospace\">#306082 <span style=\"color: #306082\">████████</span></span><br><span style=\"font-family: monospace\">#d28bc6 <span style=\"color: #d28bc6\">████████</span></span><br><span style=\"font-family: monospace\">#8f563b <span style=\"color: #8f563b\">████████</span></span><br><span style=\"font-family: monospace\">#595652 <span style=\"color: #595652\">████████</span></span><br><span style=\"font-family: monospace\">#696a6a <span style=\"color: #696a6a\">████████</span></span><br><span style=\"font-family: monospace\">#847e87 <span style=\"color: #847e87\">████████</span></span>"
      ],
      "text/plain": [
       "<IPython.core.display.Markdown object>"
      ]
     },
     "metadata": {},
     "output_type": "display_data"
    },
    {
     "data": {
      "text/markdown": [
       "<span style=\"font-family: monospace\">#dfab71 <span style=\"color: #dfab71\">████████</span></span><br><span style=\"font-family: monospace\">#34946c <span style=\"color: #34946c\">████████</span></span><br><span style=\"font-family: monospace\">#78c63c <span style=\"color: #78c63c\">████████</span></span><br><span style=\"font-family: monospace\">#647ee1 <span style=\"color: #647ee1\">████████</span></span><br><span style=\"font-family: monospace\">#ce5147 <span style=\"color: #ce5147\">████████</span></span><br><span style=\"font-family: monospace\">#4c4937 <span style=\"color: #4c4937\">████████</span></span><br><span style=\"font-family: monospace\">#306082 <span style=\"color: #306082\">████████</span></span><br><span style=\"font-family: monospace\">#d28bc6 <span style=\"color: #d28bc6\">████████</span></span><br><span style=\"font-family: monospace\">#8f563b <span style=\"color: #8f563b\">████████</span></span><br><span style=\"font-family: monospace\">#595652 <span style=\"color: #595652\">████████</span></span><br><span style=\"font-family: monospace\">#696a6a <span style=\"color: #696a6a\">████████</span></span><br><span style=\"font-family: monospace\">#847e87 <span style=\"color: #847e87\">████████</span></span><br><span style=\"font-family: monospace\">#d95763 <span style=\"color: #d95763\">████████</span></span><br><span style=\"font-family: monospace\">#ac3232 <span style=\"color: #ac3232\">████████</span></span><br><span style=\"font-family: monospace\">#663931 <span style=\"color: #663931\">████████</span></span><br><span style=\"font-family: monospace\">#df7126 <span style=\"color: #df7126\">████████</span></span>"
      ],
      "text/plain": [
       "<IPython.core.display.Markdown object>"
      ]
     },
     "metadata": {},
     "output_type": "display_data"
    },
    {
     "data": {
      "text/markdown": [
       "<span style=\"font-family: monospace\">#dfab71 <span style=\"color: #dfab71\">████████</span></span><br><span style=\"font-family: monospace\">#8c5f38 <span style=\"color: #8c5f38\">████████</span></span><br><span style=\"font-family: monospace\">#4c4937 <span style=\"color: #4c4937\">████████</span></span><br><span style=\"font-family: monospace\">#34946c <span style=\"color: #34946c\">████████</span></span><br><span style=\"font-family: monospace\">#78c63c <span style=\"color: #78c63c\">████████</span></span><br><span style=\"font-family: monospace\">#647ee1 <span style=\"color: #647ee1\">████████</span></span><br><span style=\"font-family: monospace\">#306082 <span style=\"color: #306082\">████████</span></span><br><span style=\"font-family: monospace\">#575480 <span style=\"color: #575480\">████████</span></span><br><span style=\"font-family: monospace\">#d28bc6 <span style=\"color: #d28bc6\">████████</span></span><br><span style=\"font-family: monospace\">#ce5147 <span style=\"color: #ce5147\">████████</span></span><br><span style=\"font-family: monospace\">#d95763 <span style=\"color: #d95763\">████████</span></span><br><span style=\"font-family: monospace\">#ac3232 <span style=\"color: #ac3232\">████████</span></span><br><span style=\"font-family: monospace\">#663931 <span style=\"color: #663931\">████████</span></span><br><span style=\"font-family: monospace\">#8f563b <span style=\"color: #8f563b\">████████</span></span><br><span style=\"font-family: monospace\">#df7126 <span style=\"color: #df7126\">████████</span></span><br><span style=\"font-family: monospace\">#847e87 <span style=\"color: #847e87\">████████</span></span><br><span style=\"font-family: monospace\">#696a6a <span style=\"color: #696a6a\">████████</span></span><br><span style=\"font-family: monospace\">#595652 <span style=\"color: #595652\">████████</span></span>"
      ],
      "text/plain": [
       "<IPython.core.display.Markdown object>"
      ]
     },
     "metadata": {},
     "output_type": "display_data"
    }
   ],
   "source": [
    "from IPython.display import Markdown, display\n",
    "\n",
    "\n",
    "for colors in colorSets:\n",
    "    display(Markdown('<br>'.join(\n",
    "    f'<span style=\"font-family: monospace\">{color} <span style=\"color: {color}\">████████</span></span>'\n",
    "    for color in colors\n",
    ")))\n",
    "\n"
   ]
  },
  {
   "cell_type": "code",
   "execution_count": null,
   "metadata": {},
   "outputs": [],
   "source": []
  }
 ],
 "metadata": {
  "kernelspec": {
   "display_name": "base",
   "language": "python",
   "name": "python3"
  },
  "language_info": {
   "codemirror_mode": {
    "name": "ipython",
    "version": 3
   },
   "file_extension": ".py",
   "mimetype": "text/x-python",
   "name": "python",
   "nbconvert_exporter": "python",
   "pygments_lexer": "ipython3",
   "version": "3.11.7"
  }
 },
 "nbformat": 4,
 "nbformat_minor": 2
}
